{
 "cells": [
  {
   "cell_type": "code",
   "execution_count": 1,
   "metadata": {
    "collapsed": true
   },
   "outputs": [],
   "source": [
    "require 'nn';"
   ]
  },
  {
   "cell_type": "markdown",
   "metadata": {},
   "source": [
    "## define your own layer"
   ]
  },
  {
   "cell_type": "code",
   "execution_count": 2,
   "metadata": {
    "collapsed": false
   },
   "outputs": [],
   "source": [
    "CSplit, parent = torch.class('nn.CSplit', 'nn.Module')\n",
    "\n",
    "function CSplit:__init(firstCount)\n",
    "    self.firstCount = firstCount\n",
    "    parent.__init(self)\n",
    "end\n",
    "\n",
    "function CSplit:updateOutput(input)\n",
    "    local inputSize = input:size()[1]\n",
    "    local firstCount = self.firstCount\n",
    "    local secondCount = inputSize - firstCount\n",
    "    local first = torch.Tensor(self.firstCount)\n",
    "    local second = torch.Tensor(secondCount)\n",
    "    for i=1, inputSize do\n",
    "        if i <= firstCount then\n",
    "            first[i] = input[i]\n",
    "        else\n",
    "            second[i - firstCount] = input[i]\n",
    "        end\n",
    "    end\n",
    "    self.output = {first, second}\n",
    "    return self.output\n",
    "end\n",
    "\n",
    "function CSplit:updateGradInput(input, gradOutput)    \n",
    "    local inputSize = input:size()[1]\n",
    "    self.gradInput = torch.Tensor(input)\n",
    "    for i=1, inputSize do\n",
    "        if i <= self.firstCount then\n",
    "            self.gradInput[i] = gradOutput[1][i]\n",
    "        else\n",
    "            self.gradInput[i] = gradOutput[2][i-self.firstCount]\n",
    "        end\n",
    "    end\n",
    "    return self.gradInput\n",
    "end"
   ]
  },
  {
   "cell_type": "code",
   "execution_count": 3,
   "metadata": {
    "collapsed": true
   },
   "outputs": [],
   "source": [
    "testNet = nn.CSplit(4)"
   ]
  },
  {
   "cell_type": "code",
   "execution_count": 4,
   "metadata": {
    "collapsed": false
   },
   "outputs": [
    {
     "data": {
      "text/plain": [
       " 0.1294\n",
       "-0.5742\n",
       " 1.8099\n",
       " 0.5352\n",
       " 0.5399\n",
       "-1.0563\n",
       "-0.6766\n",
       " 1.5584\n",
       " 1.4493\n",
       " 0.4544\n",
       "[torch.DoubleTensor of size 10]\n",
       "\n",
       " 0.1294\n",
       "-0.5742\n",
       " 1.8099\n",
       " 0.5352\n",
       "[torch.DoubleTensor of size 4]\n",
       "\n",
       " 0.5399\n",
       "-1.0563\n",
       "-0.6766\n",
       " 1.5584\n",
       " 1.4493\n",
       " 0.4544\n",
       "[torch.DoubleTensor of size 6]\n",
       "\n"
      ]
     },
     "execution_count": 4,
     "metadata": {},
     "output_type": "execute_result"
    }
   ],
   "source": [
    "input = torch.randn(10)\n",
    "output = testNet:forward(input)\n",
    "print(input)\n",
    "print(output[1])\n",
    "print(output[2])\n",
    "testNet:backward(input, {torch.randn(4), torch.randn(6)})"
   ]
  },
  {
   "cell_type": "markdown",
   "metadata": {},
   "source": [
    "## test the layer in real network"
   ]
  },
  {
   "cell_type": "markdown",
   "metadata": {},
   "source": [
    "### build and test the network using CSplit"
   ]
  },
  {
   "cell_type": "code",
   "execution_count": 5,
   "metadata": {
    "collapsed": false
   },
   "outputs": [
    {
     "data": {
      "text/plain": [
       "-2.4695\n",
       "-2.2748\n",
       "-2.1606\n",
       "-2.2838\n",
       "-2.1932\n",
       "-2.7600\n",
       "-2.3625\n",
       "-2.2614\n",
       "-2.2657\n",
       "-2.1336\n",
       "[torch.DoubleTensor of size 10]\n",
       "\n"
      ]
     },
     "execution_count": 5,
     "metadata": {},
     "output_type": "execute_result"
    }
   ],
   "source": [
    "net = nn.Sequential()\n",
    "net:add(nn.Reshape(1*28*28))\n",
    "net:add(nn.Linear(1*28*28, 50))\n",
    "net:add(nn.ReLU())\n",
    "net:add(nn.CSplit(25))\n",
    "\n",
    "parallelNet = nn.ParallelTable()\n",
    "firstPartNet = nn.Linear(25, 10)\n",
    "secondPartNet = nn.Linear(25, 10)\n",
    "parallelNet:add(firstPartNet)\n",
    "parallelNet:add(secondPartNet)\n",
    "net:add(parallelNet)\n",
    "net:add(nn.JoinTable(1))\n",
    "net:add(nn.ReLU())\n",
    "net:add(nn.Linear(20, 10))\n",
    "-- net:add(nn.Dropout(0.5))\n",
    "net:add(nn.LogSoftMax())\n",
    "\n",
    "output = net:forward(torch.randn(28, 28))\n",
    "net:backward(torch.randn(28, 28), torch.randn(10))\n",
    "print(output)"
   ]
  },
  {
   "cell_type": "markdown",
   "metadata": {},
   "source": [
    "### define criterion"
   ]
  },
  {
   "cell_type": "code",
   "execution_count": 6,
   "metadata": {
    "collapsed": false
   },
   "outputs": [],
   "source": [
    "crit = nn.ClassNLLCriterion()"
   ]
  },
  {
   "cell_type": "markdown",
   "metadata": {},
   "source": [
    "### training the network with mnist dataset"
   ]
  },
  {
   "cell_type": "markdown",
   "metadata": {},
   "source": [
    "#### load dataset and preprocessing"
   ]
  },
  {
   "cell_type": "code",
   "execution_count": 7,
   "metadata": {
    "collapsed": false
   },
   "outputs": [
    {
     "data": {
      "image/png": "[encoded data removed]",
      "text/plain": [
       "Console does not support images"
      ]
     },
     "metadata": {
      "image/png": {
       "height": 30,
       "width": 180
      }
     },
     "output_type": "display_data"
    }
   ],
   "source": [
    "-- install mnist package according https://github.com/andresy/mnist \n",
    "local mnist = require 'mnist'\n",
    "local train = mnist.traindataset()\n",
    "Xt = train.data:double()\n",
    "Yt = train.label\n",
    "local test = mnist.testdataset()\n",
    "Xv = test.data:double()\n",
    "Yv = test.label\n",
    "Yt[Yt:eq(0)] = 10\n",
    "Yv[Yv:eq(0)] = 10\n",
    "itorch.image(Xt:narrow(1, 1, 6))"
   ]
  },
  {
   "cell_type": "code",
   "execution_count": 8,
   "metadata": {
    "collapsed": false
   },
   "outputs": [
    {
     "data": {
      "text/plain": [
       "torch.DoubleTensor\n",
       "torch.DoubleTensor\n",
       "-3.2954e+01\n",
       "-2.2430e+01\n",
       "-2.7157e+01\n",
       "-1.4346e+01\n",
       "-1.1874e-06\n",
       "-5.3523e+01\n",
       "-3.2618e+01\n",
       "-1.7043e+01\n",
       "-1.4402e+01\n",
       "-1.9547e+01\n",
       "[torch.DoubleTensor of size 10]\n",
       "\n"
      ]
     },
     "execution_count": 8,
     "metadata": {},
     "output_type": "execute_result"
    }
   ],
   "source": [
    "print(Xt[1]:type())\n",
    "testData = torch.randn(28*28)\n",
    "print(testData:type())\n",
    "output = net:forward(Xt[1])\n",
    "print(output)"
   ]
  },
  {
   "cell_type": "markdown",
   "metadata": {},
   "source": [
    "#### set arguments"
   ]
  },
  {
   "cell_type": "code",
   "execution_count": 9,
   "metadata": {
    "collapsed": false
   },
   "outputs": [],
   "source": [
    "epoch = 10\n",
    "batchsize = 128\n",
    "lr = 1e-3"
   ]
  },
  {
   "cell_type": "markdown",
   "metadata": {},
   "source": [
    "#### train and test after each epoch training"
   ]
  },
  {
   "cell_type": "code",
   "execution_count": 10,
   "metadata": {
    "collapsed": false
   },
   "outputs": [
    {
     "data": {
      "text/plain": [
       "traning loss 1.31, counter:00000100\n"
      ]
     },
     "execution_count": 10,
     "metadata": {},
     "output_type": "execute_result"
    },
    {
     "data": {
      "text/plain": [
       "traning loss 0.43, counter:00000200\n"
      ]
     },
     "execution_count": 10,
     "metadata": {},
     "output_type": "execute_result"
    },
    {
     "data": {
      "text/plain": [
       "traning loss 0.68, counter:00000300\n"
      ]
     },
     "execution_count": 10,
     "metadata": {},
     "output_type": "execute_result"
    },
    {
     "data": {
      "text/plain": [
       "traning loss 0.35, counter:00000400\n"
      ]
     },
     "execution_count": 10,
     "metadata": {},
     "output_type": "execute_result"
    },
    {
     "data": {
      "text/plain": [
       "wrong rate 0.14, counter:00000469\n"
      ]
     },
     "execution_count": 10,
     "metadata": {},
     "output_type": "execute_result"
    },
    {
     "data": {
      "text/plain": [
       "traning loss 0.33, counter:00000500\n"
      ]
     },
     "execution_count": 10,
     "metadata": {},
     "output_type": "execute_result"
    },
    {
     "data": {
      "text/plain": [
       "traning loss 0.43, counter:00000600\n"
      ]
     },
     "execution_count": 10,
     "metadata": {},
     "output_type": "execute_result"
    },
    {
     "data": {
      "text/plain": [
       "traning loss 0.25, counter:00000700\n"
      ]
     },
     "execution_count": 10,
     "metadata": {},
     "output_type": "execute_result"
    },
    {
     "data": {
      "text/plain": [
       "traning loss 0.51, counter:00000800\n"
      ]
     },
     "execution_count": 10,
     "metadata": {},
     "output_type": "execute_result"
    },
    {
     "data": {
      "text/plain": [
       "traning loss 0.30, counter:00000900\n"
      ]
     },
     "execution_count": 10,
     "metadata": {},
     "output_type": "execute_result"
    },
    {
     "data": {
      "text/plain": [
       "wrong rate 0.10, counter:00000937\n"
      ]
     },
     "execution_count": 10,
     "metadata": {},
     "output_type": "execute_result"
    },
    {
     "data": {
      "text/plain": [
       "traning loss 0.32, counter:00001000\n"
      ]
     },
     "execution_count": 10,
     "metadata": {},
     "output_type": "execute_result"
    },
    {
     "data": {
      "text/plain": [
       "traning loss 0.39, counter:00001100\n"
      ]
     },
     "execution_count": 10,
     "metadata": {},
     "output_type": "execute_result"
    },
    {
     "data": {
      "text/plain": [
       "traning loss 0.29, counter:00001200\n"
      ]
     },
     "execution_count": 10,
     "metadata": {},
     "output_type": "execute_result"
    },
    {
     "data": {
      "text/plain": [
       "traning loss 0.46, counter:00001300\n"
      ]
     },
     "execution_count": 10,
     "metadata": {},
     "output_type": "execute_result"
    },
    {
     "data": {
      "text/plain": [
       "traning loss 0.10, counter:00001400\n"
      ]
     },
     "execution_count": 10,
     "metadata": {},
     "output_type": "execute_result"
    },
    {
     "data": {
      "text/plain": [
       "wrong rate 0.09, counter:00001405\n"
      ]
     },
     "execution_count": 10,
     "metadata": {},
     "output_type": "execute_result"
    },
    {
     "data": {
      "text/plain": [
       "traning loss 0.18, counter:00001500\n"
      ]
     },
     "execution_count": 10,
     "metadata": {},
     "output_type": "execute_result"
    },
    {
     "data": {
      "text/plain": [
       "traning loss 0.25, counter:00001600\n"
      ]
     },
     "execution_count": 10,
     "metadata": {},
     "output_type": "execute_result"
    },
    {
     "data": {
      "text/plain": [
       "traning loss 0.28, counter:00001700\n"
      ]
     },
     "execution_count": 10,
     "metadata": {},
     "output_type": "execute_result"
    },
    {
     "data": {
      "text/plain": [
       "traning loss 0.29, counter:00001800\n"
      ]
     },
     "execution_count": 10,
     "metadata": {},
     "output_type": "execute_result"
    },
    {
     "data": {
      "text/plain": [
       "wrong rate 0.08, counter:00001873\n"
      ]
     },
     "execution_count": 10,
     "metadata": {},
     "output_type": "execute_result"
    },
    {
     "data": {
      "text/plain": [
       "traning loss 0.29, counter:00001900\n"
      ]
     },
     "execution_count": 10,
     "metadata": {},
     "output_type": "execute_result"
    },
    {
     "data": {
      "text/plain": [
       "traning loss 0.19, counter:00002000\n"
      ]
     },
     "execution_count": 10,
     "metadata": {},
     "output_type": "execute_result"
    },
    {
     "data": {
      "text/plain": [
       "traning loss 0.22, counter:00002100\n"
      ]
     },
     "execution_count": 10,
     "metadata": {},
     "output_type": "execute_result"
    },
    {
     "data": {
      "text/plain": [
       "traning loss 0.28, counter:00002200\n"
      ]
     },
     "execution_count": 10,
     "metadata": {},
     "output_type": "execute_result"
    },
    {
     "data": {
      "text/plain": [
       "traning loss 0.25, counter:00002300\n"
      ]
     },
     "execution_count": 10,
     "metadata": {},
     "output_type": "execute_result"
    },
    {
     "data": {
      "text/plain": [
       "wrong rate 0.08, counter:00002341\n"
      ]
     },
     "execution_count": 10,
     "metadata": {},
     "output_type": "execute_result"
    },
    {
     "data": {
      "text/plain": [
       "traning loss 0.23, counter:00002400\n"
      ]
     },
     "execution_count": 10,
     "metadata": {},
     "output_type": "execute_result"
    },
    {
     "data": {
      "text/plain": [
       "traning loss 0.22, counter:00002500\n"
      ]
     },
     "execution_count": 10,
     "metadata": {},
     "output_type": "execute_result"
    },
    {
     "data": {
      "text/plain": [
       "traning loss 0.20, counter:00002600\n"
      ]
     },
     "execution_count": 10,
     "metadata": {},
     "output_type": "execute_result"
    },
    {
     "data": {
      "text/plain": [
       "traning loss 0.31, counter:00002700\n"
      ]
     },
     "execution_count": 10,
     "metadata": {},
     "output_type": "execute_result"
    },
    {
     "data": {
      "text/plain": [
       "traning loss 0.06, counter:00002800\n"
      ]
     },
     "execution_count": 10,
     "metadata": {},
     "output_type": "execute_result"
    },
    {
     "data": {
      "text/plain": [
       "wrong rate 0.07, counter:00002809\n"
      ]
     },
     "execution_count": 10,
     "metadata": {},
     "output_type": "execute_result"
    },
    {
     "data": {
      "text/plain": [
       "traning loss 0.30, counter:00002900\n"
      ]
     },
     "execution_count": 10,
     "metadata": {},
     "output_type": "execute_result"
    },
    {
     "data": {
      "text/plain": [
       "traning loss 0.11, counter:00003000\n"
      ]
     },
     "execution_count": 10,
     "metadata": {},
     "output_type": "execute_result"
    },
    {
     "data": {
      "text/plain": [
       "traning loss 0.21, counter:00003100\n"
      ]
     },
     "execution_count": 10,
     "metadata": {},
     "output_type": "execute_result"
    },
    {
     "data": {
      "text/plain": [
       "traning loss 0.14, counter:00003200\n"
      ]
     },
     "execution_count": 10,
     "metadata": {},
     "output_type": "execute_result"
    },
    {
     "data": {
      "text/plain": [
       "wrong rate 0.07, counter:00003277\n"
      ]
     },
     "execution_count": 10,
     "metadata": {},
     "output_type": "execute_result"
    },
    {
     "data": {
      "text/plain": [
       "traning loss 0.18, counter:00003300\n"
      ]
     },
     "execution_count": 10,
     "metadata": {},
     "output_type": "execute_result"
    },
    {
     "data": {
      "text/plain": [
       "traning loss 0.21, counter:00003400\n"
      ]
     },
     "execution_count": 10,
     "metadata": {},
     "output_type": "execute_result"
    },
    {
     "data": {
      "text/plain": [
       "traning loss 0.26, counter:00003500\n"
      ]
     },
     "execution_count": 10,
     "metadata": {},
     "output_type": "execute_result"
    },
    {
     "data": {
      "text/plain": [
       "traning loss 0.33, counter:00003600\n"
      ]
     },
     "execution_count": 10,
     "metadata": {},
     "output_type": "execute_result"
    },
    {
     "data": {
      "text/plain": [
       "traning loss 0.21, counter:00003700\n"
      ]
     },
     "execution_count": 10,
     "metadata": {},
     "output_type": "execute_result"
    },
    {
     "data": {
      "text/plain": [
       "wrong rate 0.06, counter:00003745\n"
      ]
     },
     "execution_count": 10,
     "metadata": {},
     "output_type": "execute_result"
    },
    {
     "data": {
      "text/plain": [
       "traning loss 0.27, counter:00003800\n"
      ]
     },
     "execution_count": 10,
     "metadata": {},
     "output_type": "execute_result"
    },
    {
     "data": {
      "text/plain": [
       "traning loss 0.16, counter:00003900\n"
      ]
     },
     "execution_count": 10,
     "metadata": {},
     "output_type": "execute_result"
    },
    {
     "data": {
      "text/plain": [
       "traning loss 0.10, counter:00004000\n"
      ]
     },
     "execution_count": 10,
     "metadata": {},
     "output_type": "execute_result"
    },
    {
     "data": {
      "text/plain": [
       "traning loss 0.06, counter:00004100\n"
      ]
     },
     "execution_count": 10,
     "metadata": {},
     "output_type": "execute_result"
    },
    {
     "data": {
      "text/plain": [
       "traning loss 0.04, counter:00004200\n"
      ]
     },
     "execution_count": 10,
     "metadata": {},
     "output_type": "execute_result"
    },
    {
     "data": {
      "text/plain": [
       "wrong rate 0.06, counter:00004213\n"
      ]
     },
     "execution_count": 10,
     "metadata": {},
     "output_type": "execute_result"
    },
    {
     "data": {
      "text/plain": [
       "traning loss 0.09, counter:00004300\n"
      ]
     },
     "execution_count": 10,
     "metadata": {},
     "output_type": "execute_result"
    },
    {
     "data": {
      "text/plain": [
       "traning loss 0.21, counter:00004400\n"
      ]
     },
     "execution_count": 10,
     "metadata": {},
     "output_type": "execute_result"
    },
    {
     "data": {
      "text/plain": [
       "traning loss 0.04, counter:00004500\n"
      ]
     },
     "execution_count": 10,
     "metadata": {},
     "output_type": "execute_result"
    },
    {
     "data": {
      "text/plain": [
       "traning loss 0.27, counter:00004600\n"
      ]
     },
     "execution_count": 10,
     "metadata": {},
     "output_type": "execute_result"
    },
    {
     "data": {
      "text/plain": [
       "wrong rate 0.06, counter:00004681\n",
       "traning ends\n"
      ]
     },
     "execution_count": 10,
     "metadata": {},
     "output_type": "execute_result"
    }
   ],
   "source": [
    "counter = 1\n",
    "lossTb = {}\n",
    "testLossTb = {}\n",
    "counterTb = {}\n",
    "parameters, gradParameters = net:getParameters()\n",
    "for i=1, epoch do    \n",
    "    for bi=1, Xt:size()[1]/batchsize do\n",
    "        tmpGradParameters = torch.zeros(gradParameters:size())\n",
    "        avgLoss = 0\n",
    "        for bj=1, batchsize do\n",
    "            j = (bi-1) * batchsize + bj\n",
    "            output = net:forward(Xt[j])\n",
    "            loss = crit:forward(output, Yt[j])\n",
    "            avgLoss = avgLoss + loss\n",
    "            critBack = crit:backward(output, Yt[j])\n",
    "            gradParameters:zero()\n",
    "            net:backward(Xt[j], critBack)\n",
    "            tmpGradParameters:add(gradParameters)\n",
    "        end\n",
    "        tmpGradParameters:div(batchsize)\n",
    "        avgLoss = avgLoss / batchsize\n",
    "        parameters:add(-1*lr*tmpGradParameters)\n",
    "        counter = counter + 1\n",
    "        if counter % 10 == 0 then\n",
    "            table.insert(lossTb, avgLoss)\n",
    "            table.insert(counterTb, counter)\n",
    "        end\n",
    "        if counter % 100 == 0 then\n",
    "            print(string.format(\"traning loss %.2f, counter:%08d\", avgLoss, counter))\n",
    "        end\n",
    "    end\n",
    "    wrongCount = 0\n",
    "    for j=1, Xv:size()[1] do\n",
    "        output = net:forward(Xv[j])        \n",
    "        maxIdx = 1\n",
    "        maxNum = output[1]\n",
    "        for k=1, output:size()[1] do\n",
    "            if output[k] > maxNum then\n",
    "                maxNum = output[k]\n",
    "                maxIdx = k\n",
    "            end\n",
    "        end\n",
    "        if maxIdx ~= Yv[j] then\n",
    "            wrongCount = wrongCount + 1\n",
    "        end\n",
    "    end\n",
    "    wrongRate = wrongCount / Xv:size()[1]\n",
    "    print(string.format(\"wrong rate %.2f, counter:%08d\", wrongRate, counter))\n",
    "end\n",
    "print(\"traning ends\")"
   ]
  },
  {
   "cell_type": "markdown",
   "metadata": {},
   "source": [
    "### visualization"
   ]
  },
  {
   "cell_type": "code",
   "execution_count": 14,
   "metadata": {
    "collapsed": false
   },
   "outputs": [
    {
     "data": {
      "text/html": [
       "<script type=\"text/javascript\">\n",
       "$(function() {\n",
       "    if (typeof (window._bokeh_onload_callbacks) === \"undefined\"){\n",
       "  window._bokeh_onload_callbacks = [];\n",
       "    }\n",
       "    function load_lib(url, callback){\n",
       "  window._bokeh_onload_callbacks.push(callback);\n",
       "  if (window._bokeh_is_loading){\n",
       "      console.log(\"Bokeh: BokehJS is being loaded, scheduling callback at\", new Date());\n",
       "      return null;\n",
       "  }\n",
       "  console.log(\"Bokeh: BokehJS not loaded, scheduling load and callback at\", new Date());\n",
       "  window._bokeh_is_loading = true;\n",
       "  var s = document.createElement('script');\n",
       "  s.src = url;\n",
       "  s.async = true;\n",
       "  s.onreadystatechange = s.onload = function(){\n",
       "      Bokeh.embed.inject_css(\"https://cdn.pydata.org/bokeh-0.7.0.min.css\");\n",
       "      window._bokeh_onload_callbacks.forEach(function(callback){callback()});\n",
       "  };\n",
       "  s.onerror = function(){\n",
       "      console.warn(\"failed to load library \" + url);\n",
       "  };\n",
       "  document.getElementsByTagName(\"head\")[0].appendChild(s);\n",
       "    }\n",
       "\n",
       "    bokehjs_url = \"https://cdn.pydata.org/bokeh-0.7.0.min.js\"\n",
       "\n",
       "    var elt = document.getElementById(\"e25517cd-3e4d-4ec9-ce13-b140731388c2\");\n",
       "    if(elt==null) {\n",
       "  console.log(\"Bokeh: ERROR: autoload.js configured with elementid 'e25517cd-3e4d-4ec9-ce13-b140731388c2'\"\n",
       "        + \"but no matching script tag was found. \")\n",
       "  return false;\n",
       "    }\n",
       "\n",
       "    if(typeof(Bokeh) !== \"undefined\") {\n",
       "  console.log(\"Bokeh: BokehJS loaded, going straight to plotting\");\n",
       "  var modelid = \"859ec279-368f-4bd5-cbfe-edc6559df4c5\";\n",
       "  var modeltype = \"Plot\";\n",
       "  var all_models = [{\"id\":\"3efc495f-e3c2-448d-c46e-43fafc3c538e\",\"type\":\"ColumnDataSource\",\"attributes\":{\"data\":{\"y\":[2.4101807678018,1.807056386146,1.665523380411,1.5545568382603,1.4573887317692,1.7302280327818,1.4230697830478,1.14498825612,0.93595891662198,1.3122204102344,0.9839936335346,1.0029863442665,0.87051697804953,1.0048292897236,0.79782557769342,0.86590896786348,0.89478552535594,0.82879932337849,0.59066315231641,0.42579337645105,0.96488715952784,0.69817724983532,0.82336113337857,0.79999850369164,0.7782074716545,0.67596696912218,0.71417380295667,0.66758891373056,0.50566070603853,0.68034835749628,0.69223150588022,0.56995558288028,0.61197417311968,0.27707773629199,0.41783011413486,0.70739681369718,0.59332414284151,0.50502920345418,0.48178837708101,0.35142486123155,0.55913378532675,0.60148224091513,0.58196176423012,0.37766593515622,0.31485719338601,0.26910926901782,0.37227987595461,0.54213125125818,0.43568612926079,0.32913417889323,0.55382729505424,0.42894682545701,0.42489475834863,0.26762549484221,0.54443262458101,0.62030991997633,0.45068968665054,0.50271731764558,0.32768769206219,0.42692168577301,0.42459951973219,0.37090041056461,0.35254469632354,0.24388921226293,0.42293326884798,0.3234032844254,0.37292933671592,0.5328209133475,0.38026977032617,0.25493135698125,0.47030981037982,0.49070327142835,0.38918959375935,0.55895042499675,0.36223943217789,0.36592147676334,0.49926503445458,0.38268492826623,0.40502627568193,0.50837541602745,0.30442930378617,0.67210082077269,0.37705816098492,0.50839521654724,0.29301357633202,0.32132405690112,0.37465504386571,0.19243350381589,0.30646308467319,0.3003335322266,0.24729170589223,0.45244646112505,0.072749875548567,0.2578063943088,0.26226606015828,0.34131106009583,0.3883967915711,0.14149825664455,0.36934423910491,0.3236264971083,0.29890682071066,0.18874576170772,0.51589758597913,0.44102092956831,0.4757285231424,0.35382844860238,0.34329365319011,0.18445172930599,0.43064792003139,0.39211793806673,0.38653589583812,0.28070118792711,0.45911244076689,0.20295338441277,0.67309893488755,0.36049280580754,0.26053281673567,0.27726790217869,0.52838593569181,0.29082792301313,0.36563170105229,0.3015634343491,0.74154539918138,0.28225167030171,0.32754927623883,0.48041851349501,0.33384559761546,0.29584294877233,0.24752058148869,0.46150214945601,0.28375066580245,0.67445856126772,0.30196164893341,0.29119405561647,0.57644760584863,0.41960804656797,0.22175666365849,0.29695492690092,0.18229576726125,0.10020398131529,0.28359621150289,0.16459154860361,0.12337971790856,0.27396313570326,0.28819063466464,0.37367745601127,0.45285704665672,0.27970404310222,0.24261985659079,0.17902014742277,0.18998037057103,0.45857244929922,0.31458987704003,0.36973257417563,0.33067380797164,0.25773496455586,0.20405043694371,0.14489277385759,0.27271265720367,0.24818034128803,0.15701139760171,0.25640191789119,0.27445181832857,0.28271031842662,0.59769486275138,0.14378614035412,0.12197287835378,0.2329196559383,0.30100905402847,0.27599807884138,0.17061642384853,0.23458939205995,0.30237342809173,0.43408708663472,0.32711305556609,0.13794754214908,0.13518777537091,0.40918301503173,0.32986087928098,0.29387191647981,0.27571339921759,0.31663759928156,0.23808048247554,0.18857166786279,0.16544239501603,0.06272722774709,0.22326702659692,0.40837167024018,0.24626270253097,0.29223410668256,0.26730670558873,0.22354012395695,0.32543929645375,0.24458711835943,0.27393920362716,0.16171348116482,0.20817854175682,0.26991359257724,0.18041352732247,0.19073645827187,0.37058791430342,0.21177838531737,0.2569466008114,0.18271318959769,0.67267313263607,0.32498209161069,0.26031809985376,0.35595067393692,0.24998340402831,0.22257907948518,0.13152102598791,0.25189122982203,0.3544748327455,0.15950367130295,0.11926305025241,0.11777831858084,0.27005909511232,0.24879449881447,0.26309612456792,0.27554668766487,0.2262844750326,0.18093278435719,0.30664769750106,0.19985811439164,0.12318838839471,0.38366952835818,0.25421134991811,0.26920364794941,0.16556904265164,0.25260311107623,0.18964910091181,0.073783068982317,0.11920309106469,0.4740497179169,0.47128452969891,0.19050682425511,0.20564556981656,0.18184014348229,0.15287678258153,0.23144871009373,0.50717652478614,0.22425078692139,0.11181043929573,0.48981817914548,0.19270570690005,0.32751860502105,0.26587256783197,0.33661267418421,0.11266616406373,0.22338170167321,0.24794889026632,0.19440768202745,0.15112575116779,0.085339374697056,0.47898098597463,0.13880082034308,0.27341234444716,0.15870213275765,0.23056050150401,0.20009512810703,0.26794121836173,0.20855663619688,0.17143625430047,0.18441804549627,0.25772401671688,0.22719775044928,0.31850627059469,0.10223600215059,0.11834066043903,0.31113773413052,0.23847665855676,0.15181484376464,0.12888577602105,0.078556043590052,0.16056524848319,0.22623859397561,0.31324236761608,0.1325140187768,0.099125174201307,0.058124576905461,0.13963188753293,0.32734033867248,0.24455514840981,0.075392361692575,0.34895030522389,0.16932575645785,0.13281934487869,0.16309213352831,0.32074113972969,0.30316802444192,0.14079086356926,0.2696359977167,0.14629067469656,0.1776066719577,0.23790902572012,0.15740510159401,0.14625895535689,0.080534072855496,0.21023212146973,0.10559584753707,0.20635763988798,0.39016535335182,0.21441159480324,0.1177318491515,0.23564066294351,0.27185498667072,0.22257651684674,0.30524913129159,0.13546089077536,0.20670849240432,0.22743868883931,0.17985658255425,0.27513535631225,0.30020061315213,0.1679808070132,0.38638888129312,0.21448851241333,0.23192142778612,0.1224482465569,0.13523838633507,0.23017076343535,0.084451247946809,0.18297268354559,0.17300535810773,0.13778753165825,0.26288555511627,0.046661438698146,0.13429537736551,0.18788928941438,0.18019138871406,0.26735774103775,0.087761488985704,0.23694407093941,0.17991100121379,0.19652341228398,0.12021008794038,0.29003431078589,0.24672853601791,0.29035967031902,0.21212241865954,0.15458960409763,0.10098978778033,0.27852136200374,0.27712666965298,0.20819615666986,0.16832608074823,0.30273424680435,0.11213370082717,0.50896338052907,0.25522718331374,0.16236700091171,0.16965578704542,0.26507488779718,0.1185134526251,0.23763822871892,0.22765554308908,0.49516036815887,0.18846945627223,0.20101046089984,0.33487283540689,0.23191210851003,0.185268972311,0.12020060622886,0.29453848559294,0.22495178478734,0.57337473042843,0.22670675349995,0.23789624068053,0.37908789324375,0.20803464287915,0.16767415864201,0.19913569843126,0.13819407782434,0.088525360223201,0.19884249919886,0.10273227257022,0.080050381535539,0.19989499199752,0.18091093054831,0.26701980160986,0.36818655102245,0.20353058682394,0.19494780030371,0.092121600641769,0.11682754973156,0.25527717948912,0.17208151369527,0.25122468419091,0.21596535423771,0.16187123033847,0.14294386668482,0.072219662281566,0.19556192435553,0.15968828126985,0.074930174284465,0.14021367148426,0.16673466558765,0.18733876522126,0.35387053240551,0.099918030637819,0.0582869744609,0.21013600581567,0.18625925185252,0.22394915154911,0.12315066356721,0.14624564790425,0.23602852655042,0.30258242539158,0.20171442384911,0.061371078750744,0.080951871700208,0.25646592584102,0.24103437978445,0.25852373925561,0.20576404573767,0.24130377665781,0.15286024206249,0.090887114030285,0.11512264990245,0.041479936175528,0.13308713267944,0.31199512668667,0.16521127898696,0.11620146810352,0.18709401063179,0.17490459947629,0.24108933427195,0.1587704377023,0.16295106054907,0.093303189594549,0.15188243567453,0.19102912052959,0.066453186529238,0.16036611135682,0.23169376114841,0.14171861050182,0.17793223071556,0.10548731406491,0.45228583174041,0.21363490006441,0.21286321841876,0.25504033489521,0.16741337110941,0.14183921788256,0.06750658865056,0.19217430339397,0.29085738126227,0.10090739800122,0.083656622915182,0.04150650761246,0.19626605793191,0.17304744305926,0.22112788383353,0.21398723577956,0.12022514291813,0.12047063706288,0.23353796209185,0.1626876444285,0.075408673916175,0.27080906405588,0.16762922298764,0.21212736214629,0.11829453819208,0.17858830690389,0.15232447511121,0.057475424158179,0.057159299101515,0.400882973517],\"x\":[10,20,30,40,50,60,70,80,90,100,110,120,130,140,150,160,170,180,190,200,210,220,230,240,250,260,270,280,290,300,310,320,330,340,350,360,370,380,390,400,410,420,430,440,450,460,470,480,490,500,510,520,530,540,550,560,570,580,590,600,610,620,630,640,650,660,670,680,690,700,710,720,730,740,750,760,770,780,790,800,810,820,830,840,850,860,870,880,890,900,910,920,930,940,950,960,970,980,990,1000,1010,1020,1030,1040,1050,1060,1070,1080,1090,1100,1110,1120,1130,1140,1150,1160,1170,1180,1190,1200,1210,1220,1230,1240,1250,1260,1270,1280,1290,1300,1310,1320,1330,1340,1350,1360,1370,1380,1390,1400,1410,1420,1430,1440,1450,1460,1470,1480,1490,1500,1510,1520,1530,1540,1550,1560,1570,1580,1590,1600,1610,1620,1630,1640,1650,1660,1670,1680,1690,1700,1710,1720,1730,1740,1750,1760,1770,1780,1790,1800,1810,1820,1830,1840,1850,1860,1870,1880,1890,1900,1910,1920,1930,1940,1950,1960,1970,1980,1990,2000,2010,2020,2030,2040,2050,2060,2070,2080,2090,2100,2110,2120,2130,2140,2150,2160,2170,2180,2190,2200,2210,2220,2230,2240,2250,2260,2270,2280,2290,2300,2310,2320,2330,2340,2350,2360,2370,2380,2390,2400,2410,2420,2430,2440,2450,2460,2470,2480,2490,2500,2510,2520,2530,2540,2550,2560,2570,2580,2590,2600,2610,2620,2630,2640,2650,2660,2670,2680,2690,2700,2710,2720,2730,2740,2750,2760,2770,2780,2790,2800,2810,2820,2830,2840,2850,2860,2870,2880,2890,2900,2910,2920,2930,2940,2950,2960,2970,2980,2990,3000,3010,3020,3030,3040,3050,3060,3070,3080,3090,3100,3110,3120,3130,3140,3150,3160,3170,3180,3190,3200,3210,3220,3230,3240,3250,3260,3270,3280,3290,3300,3310,3320,3330,3340,3350,3360,3370,3380,3390,3400,3410,3420,3430,3440,3450,3460,3470,3480,3490,3500,3510,3520,3530,3540,3550,3560,3570,3580,3590,3600,3610,3620,3630,3640,3650,3660,3670,3680,3690,3700,3710,3720,3730,3740,3750,3760,3770,3780,3790,3800,3810,3820,3830,3840,3850,3860,3870,3880,3890,3900,3910,3920,3930,3940,3950,3960,3970,3980,3990,4000,4010,4020,4030,4040,4050,4060,4070,4080,4090,4100,4110,4120,4130,4140,4150,4160,4170,4180,4190,4200,4210,4220,4230,4240,4250,4260,4270,4280,4290,4300,4310,4320,4330,4340,4350,4360,4370,4380,4390,4400,4410,4420,4430,4440,4450,4460,4470,4480,4490,4500,4510,4520,4530,4540,4550,4560,4570,4580,4590,4600,4610,4620,4630,4640,4650,4660,4670,4680]},\"column_names\":[\"y\",\"x\"],\"cont_ranges\":{},\"discrete_ranges\":{},\"selected\":[],\"id\":\"3efc495f-e3c2-448d-c46e-43fafc3c538e\",\"doc\":null,\"tags\":[]}},{\"id\":\"a2845367-8bc9-4a0d-cab4-c2a59b2b0972\",\"type\":\"Line\",\"attributes\":{\"fill_alpha\":{\"units\":\"data\",\"value\":0.2},\"line_alpha\":{\"units\":\"data\",\"value\":1},\"doc\":null,\"size\":{\"units\":\"screen\",\"value\":10},\"fill_color\":{\"value\":\"blue\"},\"line_color\":{\"value\":\"blue\"},\"x\":{\"units\":\"data\",\"field\":\"x\"},\"id\":\"a2845367-8bc9-4a0d-cab4-c2a59b2b0972\",\"y\":{\"units\":\"data\",\"field\":\"y\"},\"tags\":[]}},{\"id\":\"a04ed1b4-3c62-4b65-cbb4-c3d180329b66\",\"type\":\"Line\",\"attributes\":{\"fill_alpha\":{\"units\":\"data\",\"value\":0.2},\"line_alpha\":{\"units\":\"data\",\"value\":1},\"doc\":null,\"size\":{\"units\":\"screen\",\"value\":10},\"fill_color\":{\"value\":\"blue\"},\"line_color\":{\"value\":\"blue\"},\"x\":{\"units\":\"data\",\"field\":\"x\"},\"id\":\"a04ed1b4-3c62-4b65-cbb4-c3d180329b66\",\"y\":{\"units\":\"data\",\"field\":\"y\"},\"tags\":[]}},{\"id\":\"77eec186-0054-431c-c372-a14b085461d5\",\"type\":\"GlyphRenderer\",\"attributes\":{\"name\":null,\"nonselection_glyph\":{\"type\":\"Line\",\"id\":\"a04ed1b4-3c62-4b65-cbb4-c3d180329b66\"},\"doc\":null,\"server_data_source\":null,\"data_source\":{\"type\":\"ColumnDataSource\",\"id\":\"3efc495f-e3c2-448d-c46e-43fafc3c538e\"},\"glyph\":{\"type\":\"Line\",\"id\":\"a2845367-8bc9-4a0d-cab4-c2a59b2b0972\"},\"selection_glyph\":null,\"id\":\"77eec186-0054-431c-c372-a14b085461d5\",\"tags\":[]}},{\"id\":\"5a5b9abf-c699-4165-c113-4182642f97d5\",\"type\":\"DataRange1d\",\"attributes\":{\"sources\":[{\"columns\":[\"x\"],\"source\":{\"type\":\"ColumnDataSource\",\"id\":\"3efc495f-e3c2-448d-c46e-43fafc3c538e\"}}],\"id\":\"5a5b9abf-c699-4165-c113-4182642f97d5\",\"tags\":[],\"doc\":null}},{\"id\":\"595acf0b-a9ae-4013-c05d-28642b4958df\",\"type\":\"DataRange1d\",\"attributes\":{\"sources\":[{\"columns\":[\"y\"],\"source\":{\"type\":\"ColumnDataSource\",\"id\":\"3efc495f-e3c2-448d-c46e-43fafc3c538e\"}}],\"id\":\"595acf0b-a9ae-4013-c05d-28642b4958df\",\"tags\":[],\"doc\":null}},{\"id\":\"e9c556fc-44be-4b94-cb22-6242330a5b29\",\"type\":\"ToolEvents\",\"attributes\":{\"tags\":[],\"id\":\"e9c556fc-44be-4b94-cb22-6242330a5b29\",\"geometries\":[],\"doc\":null}},{\"id\":\"63cdae29-d8e5-4d25-cd6f-c002c1bdd632\",\"type\":\"BasicTickFormatter\",\"attributes\":{\"id\":\"63cdae29-d8e5-4d25-cd6f-c002c1bdd632\",\"tags\":[],\"doc\":null}},{\"id\":\"879eedd4-3204-4e47-ce4f-e4eee7874098\",\"type\":\"BasicTicker\",\"attributes\":{\"num_minor_ticks\":5,\"id\":\"879eedd4-3204-4e47-ce4f-e4eee7874098\",\"tags\":[],\"doc\":null}},{\"id\":\"d912b050-9b49-47dd-c708-a95a55d6bb2b\",\"type\":\"LinearAxis\",\"attributes\":{\"formatter\":{\"type\":\"BasicTickFormatter\",\"id\":\"63cdae29-d8e5-4d25-cd6f-c002c1bdd632\"},\"ticker\":{\"type\":\"BasicTicker\",\"id\":\"879eedd4-3204-4e47-ce4f-e4eee7874098\"},\"plot\":{\"id\":\"859ec279-368f-4bd5-cbfe-edc6559df4c5\",\"type\":\"Plot\",\"subtype\":\"Figure\"},\"axis_label\":null,\"id\":\"d912b050-9b49-47dd-c708-a95a55d6bb2b\",\"doc\":null,\"tags\":[]}},{\"id\":\"83cf6174-83d8-4560-c54d-eeb4c0590d89\",\"type\":\"Grid\",\"attributes\":{\"dimension\":0,\"plot\":{\"id\":\"859ec279-368f-4bd5-cbfe-edc6559df4c5\",\"type\":\"Plot\",\"subtype\":\"Figure\"},\"ticker\":{\"type\":\"BasicTicker\",\"id\":\"879eedd4-3204-4e47-ce4f-e4eee7874098\"},\"id\":\"83cf6174-83d8-4560-c54d-eeb4c0590d89\",\"doc\":null,\"tags\":[]}},{\"id\":\"c3e338b3-6705-46a9-c67d-b37158e63e27\",\"type\":\"BasicTickFormatter\",\"attributes\":{\"id\":\"c3e338b3-6705-46a9-c67d-b37158e63e27\",\"tags\":[],\"doc\":null}},{\"id\":\"84082131-4e92-4dae-cd99-46d07a0861bd\",\"type\":\"BasicTicker\",\"attributes\":{\"num_minor_ticks\":5,\"id\":\"84082131-4e92-4dae-cd99-46d07a0861bd\",\"tags\":[],\"doc\":null}},{\"id\":\"3b2ab9be-6086-4d96-cd0b-29e168a85086\",\"type\":\"LinearAxis\",\"attributes\":{\"formatter\":{\"type\":\"BasicTickFormatter\",\"id\":\"c3e338b3-6705-46a9-c67d-b37158e63e27\"},\"ticker\":{\"type\":\"BasicTicker\",\"id\":\"84082131-4e92-4dae-cd99-46d07a0861bd\"},\"plot\":{\"id\":\"859ec279-368f-4bd5-cbfe-edc6559df4c5\",\"type\":\"Plot\",\"subtype\":\"Figure\"},\"axis_label\":null,\"id\":\"3b2ab9be-6086-4d96-cd0b-29e168a85086\",\"doc\":null,\"tags\":[]}},{\"id\":\"d5b747fd-daeb-4556-c591-a030e515e25b\",\"type\":\"Grid\",\"attributes\":{\"dimension\":1,\"plot\":{\"id\":\"859ec279-368f-4bd5-cbfe-edc6559df4c5\",\"type\":\"Plot\",\"subtype\":\"Figure\"},\"ticker\":{\"type\":\"BasicTicker\",\"id\":\"84082131-4e92-4dae-cd99-46d07a0861bd\"},\"id\":\"d5b747fd-daeb-4556-c591-a030e515e25b\",\"doc\":null,\"tags\":[]}},{\"id\":\"69164ef6-6c17-4715-c721-37c02b62bef0\",\"type\":\"PanTool\",\"attributes\":{\"plot\":{\"id\":\"859ec279-368f-4bd5-cbfe-edc6559df4c5\",\"type\":\"Plot\",\"subtype\":\"Figure\"},\"dimensions\":[\"width\",\"height\"],\"id\":\"69164ef6-6c17-4715-c721-37c02b62bef0\",\"doc\":null,\"tags\":[]}},{\"id\":\"5ca795bb-e696-4f46-cf25-a9f5564f16c4\",\"type\":\"WheelZoomTool\",\"attributes\":{\"plot\":{\"id\":\"859ec279-368f-4bd5-cbfe-edc6559df4c5\",\"type\":\"Plot\",\"subtype\":\"Figure\"},\"dimensions\":[\"width\",\"height\"],\"id\":\"5ca795bb-e696-4f46-cf25-a9f5564f16c4\",\"doc\":null,\"tags\":[]}},{\"id\":\"dead1311-a44a-466b-c6df-2e448c3ddfb8\",\"type\":\"BoxZoomTool\",\"attributes\":{\"plot\":{\"id\":\"859ec279-368f-4bd5-cbfe-edc6559df4c5\",\"type\":\"Plot\",\"subtype\":\"Figure\"},\"id\":\"dead1311-a44a-466b-c6df-2e448c3ddfb8\",\"tags\":[],\"doc\":null}},{\"id\":\"68f2fcf8-32da-40e7-c0d0-7a2a27313279\",\"type\":\"PreviewSaveTool\",\"attributes\":{\"plot\":{\"id\":\"859ec279-368f-4bd5-cbfe-edc6559df4c5\",\"type\":\"Plot\",\"subtype\":\"Figure\"},\"id\":\"68f2fcf8-32da-40e7-c0d0-7a2a27313279\",\"tags\":[],\"doc\":null}},{\"id\":\"5a378944-7b3c-4520-c586-07b43985377b\",\"type\":\"ResizeTool\",\"attributes\":{\"plot\":{\"id\":\"859ec279-368f-4bd5-cbfe-edc6559df4c5\",\"type\":\"Plot\",\"subtype\":\"Figure\"},\"id\":\"5a378944-7b3c-4520-c586-07b43985377b\",\"tags\":[],\"doc\":null}},{\"id\":\"374867bb-f5ed-4c03-cc94-c879f6a8e7fd\",\"type\":\"ResetTool\",\"attributes\":{\"plot\":{\"id\":\"859ec279-368f-4bd5-cbfe-edc6559df4c5\",\"type\":\"Plot\",\"subtype\":\"Figure\"},\"id\":\"374867bb-f5ed-4c03-cc94-c879f6a8e7fd\",\"tags\":[],\"doc\":null}},{\"id\":\"859ec279-368f-4bd5-cbfe-edc6559df4c5\",\"type\":\"Plot\",\"attributes\":{\"x_range\":{\"type\":\"DataRange1d\",\"id\":\"5a5b9abf-c699-4165-c113-4182642f97d5\"},\"tool_events\":{\"type\":\"ToolEvents\",\"id\":\"e9c556fc-44be-4b94-cb22-6242330a5b29\"},\"below\":[{\"type\":\"LinearAxis\",\"id\":\"d912b050-9b49-47dd-c708-a95a55d6bb2b\"}],\"renderers\":[{\"type\":\"GlyphRenderer\",\"id\":\"77eec186-0054-431c-c372-a14b085461d5\"},{\"type\":\"LinearAxis\",\"id\":\"d912b050-9b49-47dd-c708-a95a55d6bb2b\"},{\"type\":\"Grid\",\"id\":\"83cf6174-83d8-4560-c54d-eeb4c0590d89\"},{\"type\":\"LinearAxis\",\"id\":\"3b2ab9be-6086-4d96-cd0b-29e168a85086\"},{\"type\":\"Grid\",\"id\":\"d5b747fd-daeb-4556-c591-a030e515e25b\"}],\"above\":[],\"tools\":[{\"type\":\"PanTool\",\"id\":\"69164ef6-6c17-4715-c721-37c02b62bef0\"},{\"type\":\"WheelZoomTool\",\"id\":\"5ca795bb-e696-4f46-cf25-a9f5564f16c4\"},{\"type\":\"BoxZoomTool\",\"id\":\"dead1311-a44a-466b-c6df-2e448c3ddfb8\"},{\"type\":\"PreviewSaveTool\",\"id\":\"68f2fcf8-32da-40e7-c0d0-7a2a27313279\"},{\"type\":\"ResizeTool\",\"id\":\"5a378944-7b3c-4520-c586-07b43985377b\"},{\"type\":\"ResetTool\",\"id\":\"374867bb-f5ed-4c03-cc94-c879f6a8e7fd\"}],\"doc\":null,\"right\":[],\"title\":\"training loss\",\"extra_x_ranges\":{},\"left\":[{\"type\":\"LinearAxis\",\"id\":\"3b2ab9be-6086-4d96-cd0b-29e168a85086\"}],\"y_range\":{\"type\":\"DataRange1d\",\"id\":\"595acf0b-a9ae-4013-c05d-28642b4958df\"},\"id\":\"859ec279-368f-4bd5-cbfe-edc6559df4c5\",\"extra_y_ranges\":{},\"tags\":[]}}];\n",
       "  Bokeh.load_models(all_models);\n",
       "  var model = Bokeh.Collections(modeltype).get(modelid);\n",
       "  $(\"#e25517cd-3e4d-4ec9-ce13-b140731388c2\").html(''); // clear any previous plot in window_id\n",
       "  var view = new model.default_view({model: model, el: \"#e25517cd-3e4d-4ec9-ce13-b140731388c2\"});\n",
       "    } else {\n",
       "  load_lib(bokehjs_url, function() {\n",
       "      console.log(\"Bokeh: BokehJS plotting callback run at\", new Date())\n",
       "      var modelid = \"859ec279-368f-4bd5-cbfe-edc6559df4c5\";\n",
       "      var modeltype = \"Plot\";\n",
       "      var all_models = [{\"id\":\"3efc495f-e3c2-448d-c46e-43fafc3c538e\",\"type\":\"ColumnDataSource\",\"attributes\":{\"data\":{\"y\":[2.4101807678018,1.807056386146,1.665523380411,1.5545568382603,1.4573887317692,1.7302280327818,1.4230697830478,1.14498825612,0.93595891662198,1.3122204102344,0.9839936335346,1.0029863442665,0.87051697804953,1.0048292897236,0.79782557769342,0.86590896786348,0.89478552535594,0.82879932337849,0.59066315231641,0.42579337645105,0.96488715952784,0.69817724983532,0.82336113337857,0.79999850369164,0.7782074716545,0.67596696912218,0.71417380295667,0.66758891373056,0.50566070603853,0.68034835749628,0.69223150588022,0.56995558288028,0.61197417311968,0.27707773629199,0.41783011413486,0.70739681369718,0.59332414284151,0.50502920345418,0.48178837708101,0.35142486123155,0.55913378532675,0.60148224091513,0.58196176423012,0.37766593515622,0.31485719338601,0.26910926901782,0.37227987595461,0.54213125125818,0.43568612926079,0.32913417889323,0.55382729505424,0.42894682545701,0.42489475834863,0.26762549484221,0.54443262458101,0.62030991997633,0.45068968665054,0.50271731764558,0.32768769206219,0.42692168577301,0.42459951973219,0.37090041056461,0.35254469632354,0.24388921226293,0.42293326884798,0.3234032844254,0.37292933671592,0.5328209133475,0.38026977032617,0.25493135698125,0.47030981037982,0.49070327142835,0.38918959375935,0.55895042499675,0.36223943217789,0.36592147676334,0.49926503445458,0.38268492826623,0.40502627568193,0.50837541602745,0.30442930378617,0.67210082077269,0.37705816098492,0.50839521654724,0.29301357633202,0.32132405690112,0.37465504386571,0.19243350381589,0.30646308467319,0.3003335322266,0.24729170589223,0.45244646112505,0.072749875548567,0.2578063943088,0.26226606015828,0.34131106009583,0.3883967915711,0.14149825664455,0.36934423910491,0.3236264971083,0.29890682071066,0.18874576170772,0.51589758597913,0.44102092956831,0.4757285231424,0.35382844860238,0.34329365319011,0.18445172930599,0.43064792003139,0.39211793806673,0.38653589583812,0.28070118792711,0.45911244076689,0.20295338441277,0.67309893488755,0.36049280580754,0.26053281673567,0.27726790217869,0.52838593569181,0.29082792301313,0.36563170105229,0.3015634343491,0.74154539918138,0.28225167030171,0.32754927623883,0.48041851349501,0.33384559761546,0.29584294877233,0.24752058148869,0.46150214945601,0.28375066580245,0.67445856126772,0.30196164893341,0.29119405561647,0.57644760584863,0.41960804656797,0.22175666365849,0.29695492690092,0.18229576726125,0.10020398131529,0.28359621150289,0.16459154860361,0.12337971790856,0.27396313570326,0.28819063466464,0.37367745601127,0.45285704665672,0.27970404310222,0.24261985659079,0.17902014742277,0.18998037057103,0.45857244929922,0.31458987704003,0.36973257417563,0.33067380797164,0.25773496455586,0.20405043694371,0.14489277385759,0.27271265720367,0.24818034128803,0.15701139760171,0.25640191789119,0.27445181832857,0.28271031842662,0.59769486275138,0.14378614035412,0.12197287835378,0.2329196559383,0.30100905402847,0.27599807884138,0.17061642384853,0.23458939205995,0.30237342809173,0.43408708663472,0.32711305556609,0.13794754214908,0.13518777537091,0.40918301503173,0.32986087928098,0.29387191647981,0.27571339921759,0.31663759928156,0.23808048247554,0.18857166786279,0.16544239501603,0.06272722774709,0.22326702659692,0.40837167024018,0.24626270253097,0.29223410668256,0.26730670558873,0.22354012395695,0.32543929645375,0.24458711835943,0.27393920362716,0.16171348116482,0.20817854175682,0.26991359257724,0.18041352732247,0.19073645827187,0.37058791430342,0.21177838531737,0.2569466008114,0.18271318959769,0.67267313263607,0.32498209161069,0.26031809985376,0.35595067393692,0.24998340402831,0.22257907948518,0.13152102598791,0.25189122982203,0.3544748327455,0.15950367130295,0.11926305025241,0.11777831858084,0.27005909511232,0.24879449881447,0.26309612456792,0.27554668766487,0.2262844750326,0.18093278435719,0.30664769750106,0.19985811439164,0.12318838839471,0.38366952835818,0.25421134991811,0.26920364794941,0.16556904265164,0.25260311107623,0.18964910091181,0.073783068982317,0.11920309106469,0.4740497179169,0.47128452969891,0.19050682425511,0.20564556981656,0.18184014348229,0.15287678258153,0.23144871009373,0.50717652478614,0.22425078692139,0.11181043929573,0.48981817914548,0.19270570690005,0.32751860502105,0.26587256783197,0.33661267418421,0.11266616406373,0.22338170167321,0.24794889026632,0.19440768202745,0.15112575116779,0.085339374697056,0.47898098597463,0.13880082034308,0.27341234444716,0.15870213275765,0.23056050150401,0.20009512810703,0.26794121836173,0.20855663619688,0.17143625430047,0.18441804549627,0.25772401671688,0.22719775044928,0.31850627059469,0.10223600215059,0.11834066043903,0.31113773413052,0.23847665855676,0.15181484376464,0.12888577602105,0.078556043590052,0.16056524848319,0.22623859397561,0.31324236761608,0.1325140187768,0.099125174201307,0.058124576905461,0.13963188753293,0.32734033867248,0.24455514840981,0.075392361692575,0.34895030522389,0.16932575645785,0.13281934487869,0.16309213352831,0.32074113972969,0.30316802444192,0.14079086356926,0.2696359977167,0.14629067469656,0.1776066719577,0.23790902572012,0.15740510159401,0.14625895535689,0.080534072855496,0.21023212146973,0.10559584753707,0.20635763988798,0.39016535335182,0.21441159480324,0.1177318491515,0.23564066294351,0.27185498667072,0.22257651684674,0.30524913129159,0.13546089077536,0.20670849240432,0.22743868883931,0.17985658255425,0.27513535631225,0.30020061315213,0.1679808070132,0.38638888129312,0.21448851241333,0.23192142778612,0.1224482465569,0.13523838633507,0.23017076343535,0.084451247946809,0.18297268354559,0.17300535810773,0.13778753165825,0.26288555511627,0.046661438698146,0.13429537736551,0.18788928941438,0.18019138871406,0.26735774103775,0.087761488985704,0.23694407093941,0.17991100121379,0.19652341228398,0.12021008794038,0.29003431078589,0.24672853601791,0.29035967031902,0.21212241865954,0.15458960409763,0.10098978778033,0.27852136200374,0.27712666965298,0.20819615666986,0.16832608074823,0.30273424680435,0.11213370082717,0.50896338052907,0.25522718331374,0.16236700091171,0.16965578704542,0.26507488779718,0.1185134526251,0.23763822871892,0.22765554308908,0.49516036815887,0.18846945627223,0.20101046089984,0.33487283540689,0.23191210851003,0.185268972311,0.12020060622886,0.29453848559294,0.22495178478734,0.57337473042843,0.22670675349995,0.23789624068053,0.37908789324375,0.20803464287915,0.16767415864201,0.19913569843126,0.13819407782434,0.088525360223201,0.19884249919886,0.10273227257022,0.080050381535539,0.19989499199752,0.18091093054831,0.26701980160986,0.36818655102245,0.20353058682394,0.19494780030371,0.092121600641769,0.11682754973156,0.25527717948912,0.17208151369527,0.25122468419091,0.21596535423771,0.16187123033847,0.14294386668482,0.072219662281566,0.19556192435553,0.15968828126985,0.074930174284465,0.14021367148426,0.16673466558765,0.18733876522126,0.35387053240551,0.099918030637819,0.0582869744609,0.21013600581567,0.18625925185252,0.22394915154911,0.12315066356721,0.14624564790425,0.23602852655042,0.30258242539158,0.20171442384911,0.061371078750744,0.080951871700208,0.25646592584102,0.24103437978445,0.25852373925561,0.20576404573767,0.24130377665781,0.15286024206249,0.090887114030285,0.11512264990245,0.041479936175528,0.13308713267944,0.31199512668667,0.16521127898696,0.11620146810352,0.18709401063179,0.17490459947629,0.24108933427195,0.1587704377023,0.16295106054907,0.093303189594549,0.15188243567453,0.19102912052959,0.066453186529238,0.16036611135682,0.23169376114841,0.14171861050182,0.17793223071556,0.10548731406491,0.45228583174041,0.21363490006441,0.21286321841876,0.25504033489521,0.16741337110941,0.14183921788256,0.06750658865056,0.19217430339397,0.29085738126227,0.10090739800122,0.083656622915182,0.04150650761246,0.19626605793191,0.17304744305926,0.22112788383353,0.21398723577956,0.12022514291813,0.12047063706288,0.23353796209185,0.1626876444285,0.075408673916175,0.27080906405588,0.16762922298764,0.21212736214629,0.11829453819208,0.17858830690389,0.15232447511121,0.057475424158179,0.057159299101515,0.400882973517],\"x\":[10,20,30,40,50,60,70,80,90,100,110,120,130,140,150,160,170,180,190,200,210,220,230,240,250,260,270,280,290,300,310,320,330,340,350,360,370,380,390,400,410,420,430,440,450,460,470,480,490,500,510,520,530,540,550,560,570,580,590,600,610,620,630,640,650,660,670,680,690,700,710,720,730,740,750,760,770,780,790,800,810,820,830,840,850,860,870,880,890,900,910,920,930,940,950,960,970,980,990,1000,1010,1020,1030,1040,1050,1060,1070,1080,1090,1100,1110,1120,1130,1140,1150,1160,1170,1180,1190,1200,1210,1220,1230,1240,1250,1260,1270,1280,1290,1300,1310,1320,1330,1340,1350,1360,1370,1380,1390,1400,1410,1420,1430,1440,1450,1460,1470,1480,1490,1500,1510,1520,1530,1540,1550,1560,1570,1580,1590,1600,1610,1620,1630,1640,1650,1660,1670,1680,1690,1700,1710,1720,1730,1740,1750,1760,1770,1780,1790,1800,1810,1820,1830,1840,1850,1860,1870,1880,1890,1900,1910,1920,1930,1940,1950,1960,1970,1980,1990,2000,2010,2020,2030,2040,2050,2060,2070,2080,2090,2100,2110,2120,2130,2140,2150,2160,2170,2180,2190,2200,2210,2220,2230,2240,2250,2260,2270,2280,2290,2300,2310,2320,2330,2340,2350,2360,2370,2380,2390,2400,2410,2420,2430,2440,2450,2460,2470,2480,2490,2500,2510,2520,2530,2540,2550,2560,2570,2580,2590,2600,2610,2620,2630,2640,2650,2660,2670,2680,2690,2700,2710,2720,2730,2740,2750,2760,2770,2780,2790,2800,2810,2820,2830,2840,2850,2860,2870,2880,2890,2900,2910,2920,2930,2940,2950,2960,2970,2980,2990,3000,3010,3020,3030,3040,3050,3060,3070,3080,3090,3100,3110,3120,3130,3140,3150,3160,3170,3180,3190,3200,3210,3220,3230,3240,3250,3260,3270,3280,3290,3300,3310,3320,3330,3340,3350,3360,3370,3380,3390,3400,3410,3420,3430,3440,3450,3460,3470,3480,3490,3500,3510,3520,3530,3540,3550,3560,3570,3580,3590,3600,3610,3620,3630,3640,3650,3660,3670,3680,3690,3700,3710,3720,3730,3740,3750,3760,3770,3780,3790,3800,3810,3820,3830,3840,3850,3860,3870,3880,3890,3900,3910,3920,3930,3940,3950,3960,3970,3980,3990,4000,4010,4020,4030,4040,4050,4060,4070,4080,4090,4100,4110,4120,4130,4140,4150,4160,4170,4180,4190,4200,4210,4220,4230,4240,4250,4260,4270,4280,4290,4300,4310,4320,4330,4340,4350,4360,4370,4380,4390,4400,4410,4420,4430,4440,4450,4460,4470,4480,4490,4500,4510,4520,4530,4540,4550,4560,4570,4580,4590,4600,4610,4620,4630,4640,4650,4660,4670,4680]},\"column_names\":[\"y\",\"x\"],\"cont_ranges\":{},\"discrete_ranges\":{},\"selected\":[],\"id\":\"3efc495f-e3c2-448d-c46e-43fafc3c538e\",\"doc\":null,\"tags\":[]}},{\"id\":\"a2845367-8bc9-4a0d-cab4-c2a59b2b0972\",\"type\":\"Line\",\"attributes\":{\"fill_alpha\":{\"units\":\"data\",\"value\":0.2},\"line_alpha\":{\"units\":\"data\",\"value\":1},\"doc\":null,\"size\":{\"units\":\"screen\",\"value\":10},\"fill_color\":{\"value\":\"blue\"},\"line_color\":{\"value\":\"blue\"},\"x\":{\"units\":\"data\",\"field\":\"x\"},\"id\":\"a2845367-8bc9-4a0d-cab4-c2a59b2b0972\",\"y\":{\"units\":\"data\",\"field\":\"y\"},\"tags\":[]}},{\"id\":\"a04ed1b4-3c62-4b65-cbb4-c3d180329b66\",\"type\":\"Line\",\"attributes\":{\"fill_alpha\":{\"units\":\"data\",\"value\":0.2},\"line_alpha\":{\"units\":\"data\",\"value\":1},\"doc\":null,\"size\":{\"units\":\"screen\",\"value\":10},\"fill_color\":{\"value\":\"blue\"},\"line_color\":{\"value\":\"blue\"},\"x\":{\"units\":\"data\",\"field\":\"x\"},\"id\":\"a04ed1b4-3c62-4b65-cbb4-c3d180329b66\",\"y\":{\"units\":\"data\",\"field\":\"y\"},\"tags\":[]}},{\"id\":\"77eec186-0054-431c-c372-a14b085461d5\",\"type\":\"GlyphRenderer\",\"attributes\":{\"name\":null,\"nonselection_glyph\":{\"type\":\"Line\",\"id\":\"a04ed1b4-3c62-4b65-cbb4-c3d180329b66\"},\"doc\":null,\"server_data_source\":null,\"data_source\":{\"type\":\"ColumnDataSource\",\"id\":\"3efc495f-e3c2-448d-c46e-43fafc3c538e\"},\"glyph\":{\"type\":\"Line\",\"id\":\"a2845367-8bc9-4a0d-cab4-c2a59b2b0972\"},\"selection_glyph\":null,\"id\":\"77eec186-0054-431c-c372-a14b085461d5\",\"tags\":[]}},{\"id\":\"5a5b9abf-c699-4165-c113-4182642f97d5\",\"type\":\"DataRange1d\",\"attributes\":{\"sources\":[{\"columns\":[\"x\"],\"source\":{\"type\":\"ColumnDataSource\",\"id\":\"3efc495f-e3c2-448d-c46e-43fafc3c538e\"}}],\"id\":\"5a5b9abf-c699-4165-c113-4182642f97d5\",\"tags\":[],\"doc\":null}},{\"id\":\"595acf0b-a9ae-4013-c05d-28642b4958df\",\"type\":\"DataRange1d\",\"attributes\":{\"sources\":[{\"columns\":[\"y\"],\"source\":{\"type\":\"ColumnDataSource\",\"id\":\"3efc495f-e3c2-448d-c46e-43fafc3c538e\"}}],\"id\":\"595acf0b-a9ae-4013-c05d-28642b4958df\",\"tags\":[],\"doc\":null}},{\"id\":\"e9c556fc-44be-4b94-cb22-6242330a5b29\",\"type\":\"ToolEvents\",\"attributes\":{\"tags\":[],\"id\":\"e9c556fc-44be-4b94-cb22-6242330a5b29\",\"geometries\":[],\"doc\":null}},{\"id\":\"63cdae29-d8e5-4d25-cd6f-c002c1bdd632\",\"type\":\"BasicTickFormatter\",\"attributes\":{\"id\":\"63cdae29-d8e5-4d25-cd6f-c002c1bdd632\",\"tags\":[],\"doc\":null}},{\"id\":\"879eedd4-3204-4e47-ce4f-e4eee7874098\",\"type\":\"BasicTicker\",\"attributes\":{\"num_minor_ticks\":5,\"id\":\"879eedd4-3204-4e47-ce4f-e4eee7874098\",\"tags\":[],\"doc\":null}},{\"id\":\"d912b050-9b49-47dd-c708-a95a55d6bb2b\",\"type\":\"LinearAxis\",\"attributes\":{\"formatter\":{\"type\":\"BasicTickFormatter\",\"id\":\"63cdae29-d8e5-4d25-cd6f-c002c1bdd632\"},\"ticker\":{\"type\":\"BasicTicker\",\"id\":\"879eedd4-3204-4e47-ce4f-e4eee7874098\"},\"plot\":{\"id\":\"859ec279-368f-4bd5-cbfe-edc6559df4c5\",\"type\":\"Plot\",\"subtype\":\"Figure\"},\"axis_label\":null,\"id\":\"d912b050-9b49-47dd-c708-a95a55d6bb2b\",\"doc\":null,\"tags\":[]}},{\"id\":\"83cf6174-83d8-4560-c54d-eeb4c0590d89\",\"type\":\"Grid\",\"attributes\":{\"dimension\":0,\"plot\":{\"id\":\"859ec279-368f-4bd5-cbfe-edc6559df4c5\",\"type\":\"Plot\",\"subtype\":\"Figure\"},\"ticker\":{\"type\":\"BasicTicker\",\"id\":\"879eedd4-3204-4e47-ce4f-e4eee7874098\"},\"id\":\"83cf6174-83d8-4560-c54d-eeb4c0590d89\",\"doc\":null,\"tags\":[]}},{\"id\":\"c3e338b3-6705-46a9-c67d-b37158e63e27\",\"type\":\"BasicTickFormatter\",\"attributes\":{\"id\":\"c3e338b3-6705-46a9-c67d-b37158e63e27\",\"tags\":[],\"doc\":null}},{\"id\":\"84082131-4e92-4dae-cd99-46d07a0861bd\",\"type\":\"BasicTicker\",\"attributes\":{\"num_minor_ticks\":5,\"id\":\"84082131-4e92-4dae-cd99-46d07a0861bd\",\"tags\":[],\"doc\":null}},{\"id\":\"3b2ab9be-6086-4d96-cd0b-29e168a85086\",\"type\":\"LinearAxis\",\"attributes\":{\"formatter\":{\"type\":\"BasicTickFormatter\",\"id\":\"c3e338b3-6705-46a9-c67d-b37158e63e27\"},\"ticker\":{\"type\":\"BasicTicker\",\"id\":\"84082131-4e92-4dae-cd99-46d07a0861bd\"},\"plot\":{\"id\":\"859ec279-368f-4bd5-cbfe-edc6559df4c5\",\"type\":\"Plot\",\"subtype\":\"Figure\"},\"axis_label\":null,\"id\":\"3b2ab9be-6086-4d96-cd0b-29e168a85086\",\"doc\":null,\"tags\":[]}},{\"id\":\"d5b747fd-daeb-4556-c591-a030e515e25b\",\"type\":\"Grid\",\"attributes\":{\"dimension\":1,\"plot\":{\"id\":\"859ec279-368f-4bd5-cbfe-edc6559df4c5\",\"type\":\"Plot\",\"subtype\":\"Figure\"},\"ticker\":{\"type\":\"BasicTicker\",\"id\":\"84082131-4e92-4dae-cd99-46d07a0861bd\"},\"id\":\"d5b747fd-daeb-4556-c591-a030e515e25b\",\"doc\":null,\"tags\":[]}},{\"id\":\"69164ef6-6c17-4715-c721-37c02b62bef0\",\"type\":\"PanTool\",\"attributes\":{\"plot\":{\"id\":\"859ec279-368f-4bd5-cbfe-edc6559df4c5\",\"type\":\"Plot\",\"subtype\":\"Figure\"},\"dimensions\":[\"width\",\"height\"],\"id\":\"69164ef6-6c17-4715-c721-37c02b62bef0\",\"doc\":null,\"tags\":[]}},{\"id\":\"5ca795bb-e696-4f46-cf25-a9f5564f16c4\",\"type\":\"WheelZoomTool\",\"attributes\":{\"plot\":{\"id\":\"859ec279-368f-4bd5-cbfe-edc6559df4c5\",\"type\":\"Plot\",\"subtype\":\"Figure\"},\"dimensions\":[\"width\",\"height\"],\"id\":\"5ca795bb-e696-4f46-cf25-a9f5564f16c4\",\"doc\":null,\"tags\":[]}},{\"id\":\"dead1311-a44a-466b-c6df-2e448c3ddfb8\",\"type\":\"BoxZoomTool\",\"attributes\":{\"plot\":{\"id\":\"859ec279-368f-4bd5-cbfe-edc6559df4c5\",\"type\":\"Plot\",\"subtype\":\"Figure\"},\"id\":\"dead1311-a44a-466b-c6df-2e448c3ddfb8\",\"tags\":[],\"doc\":null}},{\"id\":\"68f2fcf8-32da-40e7-c0d0-7a2a27313279\",\"type\":\"PreviewSaveTool\",\"attributes\":{\"plot\":{\"id\":\"859ec279-368f-4bd5-cbfe-edc6559df4c5\",\"type\":\"Plot\",\"subtype\":\"Figure\"},\"id\":\"68f2fcf8-32da-40e7-c0d0-7a2a27313279\",\"tags\":[],\"doc\":null}},{\"id\":\"5a378944-7b3c-4520-c586-07b43985377b\",\"type\":\"ResizeTool\",\"attributes\":{\"plot\":{\"id\":\"859ec279-368f-4bd5-cbfe-edc6559df4c5\",\"type\":\"Plot\",\"subtype\":\"Figure\"},\"id\":\"5a378944-7b3c-4520-c586-07b43985377b\",\"tags\":[],\"doc\":null}},{\"id\":\"374867bb-f5ed-4c03-cc94-c879f6a8e7fd\",\"type\":\"ResetTool\",\"attributes\":{\"plot\":{\"id\":\"859ec279-368f-4bd5-cbfe-edc6559df4c5\",\"type\":\"Plot\",\"subtype\":\"Figure\"},\"id\":\"374867bb-f5ed-4c03-cc94-c879f6a8e7fd\",\"tags\":[],\"doc\":null}},{\"id\":\"859ec279-368f-4bd5-cbfe-edc6559df4c5\",\"type\":\"Plot\",\"attributes\":{\"x_range\":{\"type\":\"DataRange1d\",\"id\":\"5a5b9abf-c699-4165-c113-4182642f97d5\"},\"tool_events\":{\"type\":\"ToolEvents\",\"id\":\"e9c556fc-44be-4b94-cb22-6242330a5b29\"},\"below\":[{\"type\":\"LinearAxis\",\"id\":\"d912b050-9b49-47dd-c708-a95a55d6bb2b\"}],\"renderers\":[{\"type\":\"GlyphRenderer\",\"id\":\"77eec186-0054-431c-c372-a14b085461d5\"},{\"type\":\"LinearAxis\",\"id\":\"d912b050-9b49-47dd-c708-a95a55d6bb2b\"},{\"type\":\"Grid\",\"id\":\"83cf6174-83d8-4560-c54d-eeb4c0590d89\"},{\"type\":\"LinearAxis\",\"id\":\"3b2ab9be-6086-4d96-cd0b-29e168a85086\"},{\"type\":\"Grid\",\"id\":\"d5b747fd-daeb-4556-c591-a030e515e25b\"}],\"above\":[],\"tools\":[{\"type\":\"PanTool\",\"id\":\"69164ef6-6c17-4715-c721-37c02b62bef0\"},{\"type\":\"WheelZoomTool\",\"id\":\"5ca795bb-e696-4f46-cf25-a9f5564f16c4\"},{\"type\":\"BoxZoomTool\",\"id\":\"dead1311-a44a-466b-c6df-2e448c3ddfb8\"},{\"type\":\"PreviewSaveTool\",\"id\":\"68f2fcf8-32da-40e7-c0d0-7a2a27313279\"},{\"type\":\"ResizeTool\",\"id\":\"5a378944-7b3c-4520-c586-07b43985377b\"},{\"type\":\"ResetTool\",\"id\":\"374867bb-f5ed-4c03-cc94-c879f6a8e7fd\"}],\"doc\":null,\"right\":[],\"title\":\"training loss\",\"extra_x_ranges\":{},\"left\":[{\"type\":\"LinearAxis\",\"id\":\"3b2ab9be-6086-4d96-cd0b-29e168a85086\"}],\"y_range\":{\"type\":\"DataRange1d\",\"id\":\"595acf0b-a9ae-4013-c05d-28642b4958df\"},\"id\":\"859ec279-368f-4bd5-cbfe-edc6559df4c5\",\"extra_y_ranges\":{},\"tags\":[]}}];\n",
       "      Bokeh.load_models(all_models);\n",
       "      var model = Bokeh.Collections(modeltype).get(modelid);\n",
       "      $(\"#e25517cd-3e4d-4ec9-ce13-b140731388c2\").html(''); // clear any previous plot in window_id\n",
       "      var view = new model.default_view({model: model, el: \"#e25517cd-3e4d-4ec9-ce13-b140731388c2\"});\n",
       "  });\n",
       "    }\n",
       "});\n",
       "</script>\n",
       "<div class=\"plotdiv\" id=\"e25517cd-3e4d-4ec9-ce13-b140731388c2\"></div>\n"
      ]
     },
     "metadata": {},
     "output_type": "display_data"
    }
   ],
   "source": [
    "Plot = require 'itorch.Plot';\n",
    "plot = Plot():line(counterTb, lossTb, \"blue\", \"training loss\")\n",
    "plot:title(\"training loss\")\n",
    "plot:draw()"
   ]
  },
  {
   "cell_type": "code",
   "execution_count": null,
   "metadata": {
    "collapsed": true
   },
   "outputs": [],
   "source": []
  }
 ],
 "metadata": {
  "kernelspec": {
   "display_name": "iTorch",
   "language": "lua",
   "name": "itorch"
  },
  "language_info": {
   "name": "lua",
   "version": "5.1"
  }
 },
 "nbformat": 4,
 "nbformat_minor": 0
}
